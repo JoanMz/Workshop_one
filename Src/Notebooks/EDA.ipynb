{
 "cells": [
  {
   "cell_type": "markdown",
   "metadata": {},
   "source": [
    "<font color=4EA770><h1><b>EDA</b></h1></font>"
   ]
  },
  {
   "cell_type": "markdown",
   "metadata": {},
   "source": [
    "<h4>We are looking to solve some questions from our data using tools such (python-notebooks, SQL_DB, Power Bi)</h4>\n",
    "</h4> And do the following visualizations</h4>\n",
    "\n",
    "- Hires by technology (pie chart)\n",
    "- Hires by year (horizontal bar chart)\n",
    "- Hires by seniority (bar chart)\n",
    "- Hires by country over years (USA, Brazil, Colombia and Ecuador only) (multiline chart)"
   ]
  },
  {
   "cell_type": "markdown",
   "metadata": {},
   "source": [
    "---"
   ]
  },
  {
   "cell_type": "markdown",
   "metadata": {},
   "source": []
  },
  {
   "cell_type": "markdown",
   "metadata": {},
   "source": [
    "---"
   ]
  },
  {
   "cell_type": "markdown",
   "metadata": {},
   "source": [
    "<font color=#3498DB><h5>Preprocess</h5></font>\n",
    "\n",
    "- <p>import own libraries</p>\n",
    "- <p>import python libraries</p>"
   ]
  },
  {
   "cell_type": "code",
   "execution_count": 1,
   "metadata": {},
   "outputs": [],
   "source": [
    "import sys\n",
    "sys.path.append(r\"../../Sql_connection\")\n",
    "import postgres_connect #that library is for connect with my postgres database using the engine(connector) of sql_alchemy "
   ]
  },
  {
   "cell_type": "code",
   "execution_count": 2,
   "metadata": {},
   "outputs": [],
   "source": [
    "from decouple import config\n",
    "import numpy as np #for math\n",
    "import pandas as pd #for data handle \n",
    "import matplotlib.pyplot as plt #for viz\n",
    "import re"
   ]
  },
  {
   "cell_type": "markdown",
   "metadata": {},
   "source": [
    "**we created the table before using the Pre_load file**\n",
    "- first we need to know our data in the precleaned table"
   ]
  },
  {
   "cell_type": "code",
   "execution_count": 5,
   "metadata": {},
   "outputs": [
    {
     "data": {
      "text/html": [
       "<div>\n",
       "<style scoped>\n",
       "    .dataframe tbody tr th:only-of-type {\n",
       "        vertical-align: middle;\n",
       "    }\n",
       "\n",
       "    .dataframe tbody tr th {\n",
       "        vertical-align: top;\n",
       "    }\n",
       "\n",
       "    .dataframe thead th {\n",
       "        text-align: right;\n",
       "    }\n",
       "</style>\n",
       "<table border=\"1\" class=\"dataframe\">\n",
       "  <thead>\n",
       "    <tr style=\"text-align: right;\">\n",
       "      <th></th>\n",
       "      <th>First Name</th>\n",
       "      <th>Last Name</th>\n",
       "      <th>Email</th>\n",
       "      <th>Application Date</th>\n",
       "      <th>Country</th>\n",
       "      <th>YOE</th>\n",
       "      <th>Seniority</th>\n",
       "      <th>Technology</th>\n",
       "      <th>Code Challenge Score</th>\n",
       "      <th>Technical Interview Score</th>\n",
       "    </tr>\n",
       "  </thead>\n",
       "  <tbody>\n",
       "    <tr>\n",
       "      <th>0</th>\n",
       "      <td>Bernadette</td>\n",
       "      <td>Langworth</td>\n",
       "      <td>leonard91@yahoo.com</td>\n",
       "      <td>2021-02-26</td>\n",
       "      <td>Norway</td>\n",
       "      <td>2</td>\n",
       "      <td>Intern</td>\n",
       "      <td>Data Engineer</td>\n",
       "      <td>3</td>\n",
       "      <td>3</td>\n",
       "    </tr>\n",
       "    <tr>\n",
       "      <th>1</th>\n",
       "      <td>Camryn</td>\n",
       "      <td>Reynolds</td>\n",
       "      <td>zelda56@hotmail.com</td>\n",
       "      <td>2021-09-09</td>\n",
       "      <td>Panama</td>\n",
       "      <td>10</td>\n",
       "      <td>Intern</td>\n",
       "      <td>Data Engineer</td>\n",
       "      <td>2</td>\n",
       "      <td>10</td>\n",
       "    </tr>\n",
       "    <tr>\n",
       "      <th>2</th>\n",
       "      <td>Larue</td>\n",
       "      <td>Spinka</td>\n",
       "      <td>okey_schultz41@gmail.com</td>\n",
       "      <td>2020-04-14</td>\n",
       "      <td>Belarus</td>\n",
       "      <td>4</td>\n",
       "      <td>Mid-Level</td>\n",
       "      <td>Client Success</td>\n",
       "      <td>10</td>\n",
       "      <td>9</td>\n",
       "    </tr>\n",
       "    <tr>\n",
       "      <th>3</th>\n",
       "      <td>Arch</td>\n",
       "      <td>Spinka</td>\n",
       "      <td>elvera_kulas@yahoo.com</td>\n",
       "      <td>2020-10-01</td>\n",
       "      <td>Eritrea</td>\n",
       "      <td>25</td>\n",
       "      <td>Trainee</td>\n",
       "      <td>QA Manual</td>\n",
       "      <td>7</td>\n",
       "      <td>1</td>\n",
       "    </tr>\n",
       "    <tr>\n",
       "      <th>4</th>\n",
       "      <td>Larue</td>\n",
       "      <td>Altenwerth</td>\n",
       "      <td>minnie.gislason@gmail.com</td>\n",
       "      <td>2020-05-20</td>\n",
       "      <td>Myanmar</td>\n",
       "      <td>13</td>\n",
       "      <td>Mid-Level</td>\n",
       "      <td>Social Media Community Management</td>\n",
       "      <td>9</td>\n",
       "      <td>7</td>\n",
       "    </tr>\n",
       "    <tr>\n",
       "      <th>...</th>\n",
       "      <td>...</td>\n",
       "      <td>...</td>\n",
       "      <td>...</td>\n",
       "      <td>...</td>\n",
       "      <td>...</td>\n",
       "      <td>...</td>\n",
       "      <td>...</td>\n",
       "      <td>...</td>\n",
       "      <td>...</td>\n",
       "      <td>...</td>\n",
       "    </tr>\n",
       "    <tr>\n",
       "      <th>49995</th>\n",
       "      <td>Bethany</td>\n",
       "      <td>Shields</td>\n",
       "      <td>rocky_mitchell@hotmail.com</td>\n",
       "      <td>2022-01-09</td>\n",
       "      <td>Dominican Republic</td>\n",
       "      <td>27</td>\n",
       "      <td>Trainee</td>\n",
       "      <td>Security</td>\n",
       "      <td>2</td>\n",
       "      <td>1</td>\n",
       "    </tr>\n",
       "    <tr>\n",
       "      <th>49996</th>\n",
       "      <td>Era</td>\n",
       "      <td>Swaniawski</td>\n",
       "      <td>dolores.roob@hotmail.com</td>\n",
       "      <td>2020-06-02</td>\n",
       "      <td>Morocco</td>\n",
       "      <td>21</td>\n",
       "      <td>Lead</td>\n",
       "      <td>Game Development</td>\n",
       "      <td>1</td>\n",
       "      <td>2</td>\n",
       "    </tr>\n",
       "    <tr>\n",
       "      <th>49997</th>\n",
       "      <td>Martin</td>\n",
       "      <td>Lakin</td>\n",
       "      <td>savanah.stracke@gmail.com</td>\n",
       "      <td>2018-12-15</td>\n",
       "      <td>Uganda</td>\n",
       "      <td>20</td>\n",
       "      <td>Trainee</td>\n",
       "      <td>System Administration</td>\n",
       "      <td>6</td>\n",
       "      <td>1</td>\n",
       "    </tr>\n",
       "    <tr>\n",
       "      <th>49998</th>\n",
       "      <td>Aliya</td>\n",
       "      <td>Abernathy</td>\n",
       "      <td>vivienne.fritsch@yahoo.com</td>\n",
       "      <td>2020-05-30</td>\n",
       "      <td>Czech Republic</td>\n",
       "      <td>20</td>\n",
       "      <td>Senior</td>\n",
       "      <td>Database Administration</td>\n",
       "      <td>0</td>\n",
       "      <td>0</td>\n",
       "    </tr>\n",
       "    <tr>\n",
       "      <th>49999</th>\n",
       "      <td>Coleman</td>\n",
       "      <td>Wisozk</td>\n",
       "      <td>abigayle.crooks@yahoo.com</td>\n",
       "      <td>2022-06-13</td>\n",
       "      <td>Palau</td>\n",
       "      <td>15</td>\n",
       "      <td>Intern</td>\n",
       "      <td>Mulesoft</td>\n",
       "      <td>3</td>\n",
       "      <td>1</td>\n",
       "    </tr>\n",
       "  </tbody>\n",
       "</table>\n",
       "<p>50000 rows × 10 columns</p>\n",
       "</div>"
      ],
      "text/plain": [
       "       First Name   Last Name                       Email Application Date  \\\n",
       "0      Bernadette   Langworth         leonard91@yahoo.com       2021-02-26   \n",
       "1          Camryn    Reynolds         zelda56@hotmail.com       2021-09-09   \n",
       "2           Larue      Spinka    okey_schultz41@gmail.com       2020-04-14   \n",
       "3            Arch      Spinka      elvera_kulas@yahoo.com       2020-10-01   \n",
       "4           Larue  Altenwerth   minnie.gislason@gmail.com       2020-05-20   \n",
       "...           ...         ...                         ...              ...   \n",
       "49995     Bethany     Shields  rocky_mitchell@hotmail.com       2022-01-09   \n",
       "49996         Era  Swaniawski    dolores.roob@hotmail.com       2020-06-02   \n",
       "49997      Martin       Lakin   savanah.stracke@gmail.com       2018-12-15   \n",
       "49998       Aliya   Abernathy  vivienne.fritsch@yahoo.com       2020-05-30   \n",
       "49999     Coleman      Wisozk   abigayle.crooks@yahoo.com       2022-06-13   \n",
       "\n",
       "                  Country  YOE  Seniority                         Technology  \\\n",
       "0                  Norway    2     Intern                      Data Engineer   \n",
       "1                  Panama   10     Intern                      Data Engineer   \n",
       "2                 Belarus    4  Mid-Level                     Client Success   \n",
       "3                 Eritrea   25    Trainee                          QA Manual   \n",
       "4                 Myanmar   13  Mid-Level  Social Media Community Management   \n",
       "...                   ...  ...        ...                                ...   \n",
       "49995  Dominican Republic   27    Trainee                           Security   \n",
       "49996             Morocco   21       Lead                   Game Development   \n",
       "49997              Uganda   20    Trainee              System Administration   \n",
       "49998      Czech Republic   20     Senior            Database Administration   \n",
       "49999               Palau   15     Intern                           Mulesoft   \n",
       "\n",
       "       Code Challenge Score  Technical Interview Score  \n",
       "0                         3                          3  \n",
       "1                         2                         10  \n",
       "2                        10                          9  \n",
       "3                         7                          1  \n",
       "4                         9                          7  \n",
       "...                     ...                        ...  \n",
       "49995                     2                          1  \n",
       "49996                     1                          2  \n",
       "49997                     6                          1  \n",
       "49998                     0                          0  \n",
       "49999                     3                          1  \n",
       "\n",
       "[50000 rows x 10 columns]"
      ]
     },
     "execution_count": 5,
     "metadata": {},
     "output_type": "execute_result"
    }
   ],
   "source": [
    "get_all_data = f\"SELECT * FROM {config(\"DB_TABLE1\")}\" #The query to get the data for the pd dataframe\n",
    "raw_dataset = pd.read_sql(get_all_data, con=postgres_connect.connection())\n",
    "raw_dataset\n"
   ]
  },
  {
   "cell_type": "code",
   "execution_count": 34,
   "metadata": {},
   "outputs": [
    {
     "data": {
      "text/plain": [
       "Index(['First Name', 'Last Name', 'Email', 'Application Date', 'Country',\n",
       "       'YOE', 'Seniority', 'Technology', 'Code Challenge Score',\n",
       "       'Technical Interview Score'],\n",
       "      dtype='object')"
      ]
     },
     "execution_count": 34,
     "metadata": {},
     "output_type": "execute_result"
    }
   ],
   "source": [
    "raw_dataset.keys()"
   ]
  },
  {
   "cell_type": "markdown",
   "metadata": {},
   "source": [
    "**Let's start looking for problems in the data such null_values duplicates and outliers**\n"
   ]
  },
  {
   "cell_type": "code",
   "execution_count": 7,
   "metadata": {},
   "outputs": [
    {
     "name": "stdout",
     "output_type": "stream",
     "text": [
      "<class 'pandas.core.frame.DataFrame'>\n",
      "RangeIndex: 50000 entries, 0 to 49999\n",
      "Data columns (total 10 columns):\n",
      " #   Column                     Non-Null Count  Dtype \n",
      "---  ------                     --------------  ----- \n",
      " 0   First Name                 50000 non-null  object\n",
      " 1   Last Name                  50000 non-null  object\n",
      " 2   Email                      50000 non-null  object\n",
      " 3   Application Date           50000 non-null  object\n",
      " 4   Country                    50000 non-null  object\n",
      " 5   YOE                        50000 non-null  int64 \n",
      " 6   Seniority                  50000 non-null  object\n",
      " 7   Technology                 50000 non-null  object\n",
      " 8   Code Challenge Score       50000 non-null  int64 \n",
      " 9   Technical Interview Score  50000 non-null  int64 \n",
      "dtypes: int64(3), object(7)\n",
      "memory usage: 3.8+ MB\n"
     ]
    }
   ],
   "source": [
    "raw_dataset.info()\n",
    "#we see what we don't have null values"
   ]
  },
  {
   "cell_type": "markdown",
   "metadata": {},
   "source": [
    "---"
   ]
  },
  {
   "cell_type": "markdown",
   "metadata": {},
   "source": [
    "**Looking for duplicates**"
   ]
  },
  {
   "cell_type": "code",
   "execution_count": 14,
   "metadata": {},
   "outputs": [
    {
     "name": "stdout",
     "output_type": "stream",
     "text": [
      "49833\n"
     ]
    }
   ],
   "source": [
    "#look for duplicates in the Email column\n",
    "print(len(raw_dataset.Email.unique()))"
   ]
  },
  {
   "cell_type": "code",
   "execution_count": 25,
   "metadata": {},
   "outputs": [
    {
     "name": "stdout",
     "output_type": "stream",
     "text": [
      "(10) duplicate_email: [matilda17@gmail.com]\n",
      "[dewayne50@gmail.com]\n",
      "[sandra83@gmail.com]\n",
      "[kadin0@gmail.com]\n",
      "[ilene47@hotmail.com]\n",
      "[madeline12@gmail.com]\n",
      "[georgiana11@gmail.com]\n",
      "[valerie55@gmail.com]\n",
      "[erling.king@yahoo.com]\n",
      "[ettie29@gmail.com]\n",
      "[vern44@hotmail.com]\n",
      "\n",
      "Duplicate emails = 165\n"
     ]
    }
   ],
   "source": [
    "duplicate_emails = raw_dataset[raw_dataset.duplicated(subset=['Email'], keep=False)]['Email'].unique()\n",
    "\n",
    "print(\"(10) duplicate_email:\", end=\" \")\n",
    "for i in range(11):\n",
    "    print(\"[\" + duplicate_emails[i],end=\"\")\n",
    "    print(\"]\")\n",
    "\n",
    "print(\"\\nDuplicate emails = \" + f\"{len(duplicate_emails)}\")\n",
    "\n",
    "#We saw what looks like there are the same person multiple times"
   ]
  },
  {
   "cell_type": "code",
   "execution_count": 27,
   "metadata": {},
   "outputs": [
    {
     "data": {
      "text/html": [
       "<div>\n",
       "<style scoped>\n",
       "    .dataframe tbody tr th:only-of-type {\n",
       "        vertical-align: middle;\n",
       "    }\n",
       "\n",
       "    .dataframe tbody tr th {\n",
       "        vertical-align: top;\n",
       "    }\n",
       "\n",
       "    .dataframe thead th {\n",
       "        text-align: right;\n",
       "    }\n",
       "</style>\n",
       "<table border=\"1\" class=\"dataframe\">\n",
       "  <thead>\n",
       "    <tr style=\"text-align: right;\">\n",
       "      <th></th>\n",
       "      <th>First Name</th>\n",
       "      <th>Last Name</th>\n",
       "      <th>Email</th>\n",
       "      <th>Application Date</th>\n",
       "      <th>Country</th>\n",
       "      <th>YOE</th>\n",
       "      <th>Seniority</th>\n",
       "      <th>Technology</th>\n",
       "      <th>Code Challenge Score</th>\n",
       "      <th>Technical Interview Score</th>\n",
       "    </tr>\n",
       "  </thead>\n",
       "  <tbody>\n",
       "    <tr>\n",
       "      <th>37</th>\n",
       "      <td>Grayce</td>\n",
       "      <td>Boyer</td>\n",
       "      <td>matilda17@gmail.com</td>\n",
       "      <td>2019-01-07</td>\n",
       "      <td>Taiwan</td>\n",
       "      <td>27</td>\n",
       "      <td>Intern</td>\n",
       "      <td>Development - FullStack</td>\n",
       "      <td>8</td>\n",
       "      <td>0</td>\n",
       "    </tr>\n",
       "    <tr>\n",
       "      <th>42</th>\n",
       "      <td>River</td>\n",
       "      <td>Erdman</td>\n",
       "      <td>dewayne50@gmail.com</td>\n",
       "      <td>2019-12-02</td>\n",
       "      <td>Bosnia and Herzegovina</td>\n",
       "      <td>4</td>\n",
       "      <td>Lead</td>\n",
       "      <td>Security Compliance</td>\n",
       "      <td>3</td>\n",
       "      <td>6</td>\n",
       "    </tr>\n",
       "    <tr>\n",
       "      <th>386</th>\n",
       "      <td>Kailee</td>\n",
       "      <td>Konopelski</td>\n",
       "      <td>sandra83@gmail.com</td>\n",
       "      <td>2021-11-24</td>\n",
       "      <td>Cook Islands</td>\n",
       "      <td>17</td>\n",
       "      <td>Senior</td>\n",
       "      <td>Sales</td>\n",
       "      <td>6</td>\n",
       "      <td>8</td>\n",
       "    </tr>\n",
       "    <tr>\n",
       "      <th>456</th>\n",
       "      <td>Clemmie</td>\n",
       "      <td>Gleason</td>\n",
       "      <td>kadin0@gmail.com</td>\n",
       "      <td>2018-06-15</td>\n",
       "      <td>Greenland</td>\n",
       "      <td>24</td>\n",
       "      <td>Mid-Level</td>\n",
       "      <td>Social Media Community Management</td>\n",
       "      <td>10</td>\n",
       "      <td>2</td>\n",
       "    </tr>\n",
       "    <tr>\n",
       "      <th>470</th>\n",
       "      <td>Lelia</td>\n",
       "      <td>Nienow</td>\n",
       "      <td>ilene47@hotmail.com</td>\n",
       "      <td>2022-05-31</td>\n",
       "      <td>Syrian Arab Republic</td>\n",
       "      <td>4</td>\n",
       "      <td>Senior</td>\n",
       "      <td>Business Intelligence</td>\n",
       "      <td>10</td>\n",
       "      <td>9</td>\n",
       "    </tr>\n",
       "    <tr>\n",
       "      <th>...</th>\n",
       "      <td>...</td>\n",
       "      <td>...</td>\n",
       "      <td>...</td>\n",
       "      <td>...</td>\n",
       "      <td>...</td>\n",
       "      <td>...</td>\n",
       "      <td>...</td>\n",
       "      <td>...</td>\n",
       "      <td>...</td>\n",
       "      <td>...</td>\n",
       "    </tr>\n",
       "    <tr>\n",
       "      <th>49237</th>\n",
       "      <td>Katlyn</td>\n",
       "      <td>Moore</td>\n",
       "      <td>stephen39@yahoo.com</td>\n",
       "      <td>2018-03-29</td>\n",
       "      <td>Guernsey</td>\n",
       "      <td>23</td>\n",
       "      <td>Trainee</td>\n",
       "      <td>Business Analytics / Project Management</td>\n",
       "      <td>5</td>\n",
       "      <td>6</td>\n",
       "    </tr>\n",
       "    <tr>\n",
       "      <th>49819</th>\n",
       "      <td>Kaylin</td>\n",
       "      <td>Hills</td>\n",
       "      <td>alejandra17@hotmail.com</td>\n",
       "      <td>2019-02-24</td>\n",
       "      <td>Iceland</td>\n",
       "      <td>21</td>\n",
       "      <td>Architect</td>\n",
       "      <td>Development - FullStack</td>\n",
       "      <td>2</td>\n",
       "      <td>9</td>\n",
       "    </tr>\n",
       "    <tr>\n",
       "      <th>49828</th>\n",
       "      <td>Mozelle</td>\n",
       "      <td>O'Connell</td>\n",
       "      <td>fiona72@hotmail.com</td>\n",
       "      <td>2019-12-08</td>\n",
       "      <td>Montenegro</td>\n",
       "      <td>30</td>\n",
       "      <td>Senior</td>\n",
       "      <td>Development - Frontend</td>\n",
       "      <td>7</td>\n",
       "      <td>5</td>\n",
       "    </tr>\n",
       "    <tr>\n",
       "      <th>49905</th>\n",
       "      <td>Mark</td>\n",
       "      <td>Rippin</td>\n",
       "      <td>callie59@hotmail.com</td>\n",
       "      <td>2022-01-26</td>\n",
       "      <td>Bhutan</td>\n",
       "      <td>0</td>\n",
       "      <td>Architect</td>\n",
       "      <td>Security Compliance</td>\n",
       "      <td>8</td>\n",
       "      <td>4</td>\n",
       "    </tr>\n",
       "    <tr>\n",
       "      <th>49912</th>\n",
       "      <td>Anastasia</td>\n",
       "      <td>Zieme</td>\n",
       "      <td>esteban3@yahoo.com</td>\n",
       "      <td>2020-03-13</td>\n",
       "      <td>Sudan</td>\n",
       "      <td>25</td>\n",
       "      <td>Architect</td>\n",
       "      <td>QA Automation</td>\n",
       "      <td>3</td>\n",
       "      <td>9</td>\n",
       "    </tr>\n",
       "  </tbody>\n",
       "</table>\n",
       "<p>332 rows × 10 columns</p>\n",
       "</div>"
      ],
      "text/plain": [
       "      First Name   Last Name                    Email Application Date  \\\n",
       "37        Grayce       Boyer      matilda17@gmail.com       2019-01-07   \n",
       "42         River      Erdman      dewayne50@gmail.com       2019-12-02   \n",
       "386       Kailee  Konopelski       sandra83@gmail.com       2021-11-24   \n",
       "456      Clemmie     Gleason         kadin0@gmail.com       2018-06-15   \n",
       "470        Lelia      Nienow      ilene47@hotmail.com       2022-05-31   \n",
       "...          ...         ...                      ...              ...   \n",
       "49237     Katlyn       Moore      stephen39@yahoo.com       2018-03-29   \n",
       "49819     Kaylin       Hills  alejandra17@hotmail.com       2019-02-24   \n",
       "49828    Mozelle   O'Connell      fiona72@hotmail.com       2019-12-08   \n",
       "49905       Mark      Rippin     callie59@hotmail.com       2022-01-26   \n",
       "49912  Anastasia       Zieme       esteban3@yahoo.com       2020-03-13   \n",
       "\n",
       "                      Country  YOE  Seniority  \\\n",
       "37                     Taiwan   27     Intern   \n",
       "42     Bosnia and Herzegovina    4       Lead   \n",
       "386              Cook Islands   17     Senior   \n",
       "456                 Greenland   24  Mid-Level   \n",
       "470      Syrian Arab Republic    4     Senior   \n",
       "...                       ...  ...        ...   \n",
       "49237                Guernsey   23    Trainee   \n",
       "49819                 Iceland   21  Architect   \n",
       "49828              Montenegro   30     Senior   \n",
       "49905                  Bhutan    0  Architect   \n",
       "49912                   Sudan   25  Architect   \n",
       "\n",
       "                                    Technology  Code Challenge Score  \\\n",
       "37                     Development - FullStack                     8   \n",
       "42                         Security Compliance                     3   \n",
       "386                                      Sales                     6   \n",
       "456          Social Media Community Management                    10   \n",
       "470                      Business Intelligence                    10   \n",
       "...                                        ...                   ...   \n",
       "49237  Business Analytics / Project Management                     5   \n",
       "49819                  Development - FullStack                     2   \n",
       "49828                   Development - Frontend                     7   \n",
       "49905                      Security Compliance                     8   \n",
       "49912                            QA Automation                     3   \n",
       "\n",
       "       Technical Interview Score  \n",
       "37                             0  \n",
       "42                             6  \n",
       "386                            8  \n",
       "456                            2  \n",
       "470                            9  \n",
       "...                          ...  \n",
       "49237                          6  \n",
       "49819                          9  \n",
       "49828                          5  \n",
       "49905                          4  \n",
       "49912                          9  \n",
       "\n",
       "[332 rows x 10 columns]"
      ]
     },
     "execution_count": 27,
     "metadata": {},
     "output_type": "execute_result"
    }
   ],
   "source": [
    "raw_dataset[raw_dataset.Email.isin(duplicate_emails)]"
   ]
  },
  {
   "cell_type": "code",
   "execution_count": 31,
   "metadata": {},
   "outputs": [
    {
     "name": "stdout",
     "output_type": "stream",
     "text": [
      "      First Name Last Name                Email Application Date   Country  \\\n",
      "37        Grayce     Boyer  matilda17@gmail.com       2019-01-07    Taiwan   \n",
      "29473       Milo  Emmerich  matilda17@gmail.com       2021-11-20  Cambodia   \n",
      "\n",
      "       YOE  Seniority               Technology  Code Challenge Score  \\\n",
      "37      27     Intern  Development - FullStack                     8   \n",
      "29473   22  Mid-Level  Database Administration                     2   \n",
      "\n",
      "       Technical Interview Score  \n",
      "37                             0  \n",
      "29473                          0  \n",
      "      First Name Last Name                Email Application Date  \\\n",
      "42         River    Erdman  dewayne50@gmail.com       2019-12-02   \n",
      "32775     Jannie   Denesik  dewayne50@gmail.com       2020-01-05   \n",
      "\n",
      "                      Country  YOE Seniority  \\\n",
      "42     Bosnia and Herzegovina    4      Lead   \n",
      "32775              Guadeloupe   17    Junior   \n",
      "\n",
      "                              Technology  Code Challenge Score  \\\n",
      "42                   Security Compliance                     3   \n",
      "32775  Social Media Community Management                     1   \n",
      "\n",
      "       Technical Interview Score  \n",
      "42                             6  \n",
      "32775                          8  \n",
      "      First Name   Last Name               Email Application Date  \\\n",
      "386       Kailee  Konopelski  sandra83@gmail.com       2021-11-24   \n",
      "10729  Nicholaus      Mayert  sandra83@gmail.com       2018-01-08   \n",
      "\n",
      "            Country  YOE Seniority         Technology  Code Challenge Score  \\\n",
      "386    Cook Islands   17    Senior              Sales                     6   \n",
      "10729          Iraq    4    Senior  Technical Writing                     3   \n",
      "\n",
      "       Technical Interview Score  \n",
      "386                            8  \n",
      "10729                          2  \n",
      "      First Name  Last Name             Email Application Date    Country  \\\n",
      "456      Clemmie    Gleason  kadin0@gmail.com       2018-06-15  Greenland   \n",
      "44314     Marlon  VonRueden  kadin0@gmail.com       2019-02-04  Swaziland   \n",
      "\n",
      "       YOE  Seniority                         Technology  \\\n",
      "456     24  Mid-Level  Social Media Community Management   \n",
      "44314   15    Trainee                           Security   \n",
      "\n",
      "       Code Challenge Score  Technical Interview Score  \n",
      "456                      10                          2  \n",
      "44314                     7                          8  \n"
     ]
    }
   ],
   "source": [
    "for i in range(4):\n",
    "    print(raw_dataset[raw_dataset.Email == duplicate_emails[i]])"
   ]
  },
  {
   "cell_type": "markdown",
   "metadata": {},
   "source": [
    "We observe that although it is the same email, they are different people, this may be due to the fact that the data is synthetic."
   ]
  },
  {
   "cell_type": "markdown",
   "metadata": {},
   "source": [
    "---"
   ]
  },
  {
   "cell_type": "code",
   "execution_count": 32,
   "metadata": {},
   "outputs": [
    {
     "data": {
      "text/html": [
       "<div>\n",
       "<style scoped>\n",
       "    .dataframe tbody tr th:only-of-type {\n",
       "        vertical-align: middle;\n",
       "    }\n",
       "\n",
       "    .dataframe tbody tr th {\n",
       "        vertical-align: top;\n",
       "    }\n",
       "\n",
       "    .dataframe thead th {\n",
       "        text-align: right;\n",
       "    }\n",
       "</style>\n",
       "<table border=\"1\" class=\"dataframe\">\n",
       "  <thead>\n",
       "    <tr style=\"text-align: right;\">\n",
       "      <th></th>\n",
       "      <th>YOE</th>\n",
       "      <th>Code Challenge Score</th>\n",
       "      <th>Technical Interview Score</th>\n",
       "    </tr>\n",
       "  </thead>\n",
       "  <tbody>\n",
       "    <tr>\n",
       "      <th>count</th>\n",
       "      <td>50000.000000</td>\n",
       "      <td>50000.000000</td>\n",
       "      <td>50000.000000</td>\n",
       "    </tr>\n",
       "    <tr>\n",
       "      <th>mean</th>\n",
       "      <td>15.286980</td>\n",
       "      <td>4.996400</td>\n",
       "      <td>5.003880</td>\n",
       "    </tr>\n",
       "    <tr>\n",
       "      <th>std</th>\n",
       "      <td>8.830652</td>\n",
       "      <td>3.166896</td>\n",
       "      <td>3.165082</td>\n",
       "    </tr>\n",
       "    <tr>\n",
       "      <th>min</th>\n",
       "      <td>0.000000</td>\n",
       "      <td>0.000000</td>\n",
       "      <td>0.000000</td>\n",
       "    </tr>\n",
       "    <tr>\n",
       "      <th>25%</th>\n",
       "      <td>8.000000</td>\n",
       "      <td>2.000000</td>\n",
       "      <td>2.000000</td>\n",
       "    </tr>\n",
       "    <tr>\n",
       "      <th>50%</th>\n",
       "      <td>15.000000</td>\n",
       "      <td>5.000000</td>\n",
       "      <td>5.000000</td>\n",
       "    </tr>\n",
       "    <tr>\n",
       "      <th>75%</th>\n",
       "      <td>23.000000</td>\n",
       "      <td>8.000000</td>\n",
       "      <td>8.000000</td>\n",
       "    </tr>\n",
       "    <tr>\n",
       "      <th>max</th>\n",
       "      <td>30.000000</td>\n",
       "      <td>10.000000</td>\n",
       "      <td>10.000000</td>\n",
       "    </tr>\n",
       "  </tbody>\n",
       "</table>\n",
       "</div>"
      ],
      "text/plain": [
       "                YOE  Code Challenge Score  Technical Interview Score\n",
       "count  50000.000000          50000.000000               50000.000000\n",
       "mean      15.286980              4.996400                   5.003880\n",
       "std        8.830652              3.166896                   3.165082\n",
       "min        0.000000              0.000000                   0.000000\n",
       "25%        8.000000              2.000000                   2.000000\n",
       "50%       15.000000              5.000000                   5.000000\n",
       "75%       23.000000              8.000000                   8.000000\n",
       "max       30.000000             10.000000                  10.000000"
      ]
     },
     "execution_count": 32,
     "metadata": {},
     "output_type": "execute_result"
    }
   ],
   "source": [
    "#now we can see the distribution of the data\n",
    "raw_dataset.describe()"
   ]
  },
  {
   "cell_type": "markdown",
   "metadata": {},
   "source": [
    "With this first approach we can observe that those have the posibility to be hired are over the Q2 or fifty porcent of the people\n",
    "& there are no weird values on these columns"
   ]
  },
  {
   "cell_type": "markdown",
   "metadata": {},
   "source": [
    "---"
   ]
  },
  {
   "cell_type": "markdown",
   "metadata": {},
   "source": [
    "finally we will search weird values in date column"
   ]
  },
  {
   "cell_type": "code",
   "execution_count": 39,
   "metadata": {},
   "outputs": [],
   "source": [
    "date_transform = pd.to_datetime(raw_dataset['Application Date']).dt.strftime(r'%Y%m%d')\n",
    "date_transform = date_transform.astype(int)"
   ]
  },
  {
   "cell_type": "code",
   "execution_count": 47,
   "metadata": {},
   "outputs": [
    {
     "name": "stdout",
     "output_type": "stream",
     "text": [
      "\n",
      "Min Date : 20180101\n",
      "Max Date : 20220704\n",
      "\n"
     ]
    }
   ],
   "source": [
    "print(f\"\"\"\n",
    "Min Date : {date_transform.min()}\n",
    "Max Date : {date_transform.max()}\n",
    "\"\"\")"
   ]
  },
  {
   "cell_type": "markdown",
   "metadata": {},
   "source": [
    "all looks good 🤓"
   ]
  },
  {
   "cell_type": "markdown",
   "metadata": {},
   "source": [
    "---"
   ]
  },
  {
   "cell_type": "markdown",
   "metadata": {},
   "source": [
    "# Create the dataframe with the hired column "
   ]
  },
  {
   "cell_type": "code",
   "execution_count": 51,
   "metadata": {},
   "outputs": [],
   "source": [
    "def determine_hire_state(row):\n",
    "    if row['Code Challenge Score'] >= 7 and row['Technical Interview Score'] >= 7:\n",
    "        return 1\n",
    "    else:\n",
    "        return 0"
   ]
  },
  {
   "cell_type": "code",
   "execution_count": 54,
   "metadata": {},
   "outputs": [
    {
     "data": {
      "text/html": [
       "<div>\n",
       "<style scoped>\n",
       "    .dataframe tbody tr th:only-of-type {\n",
       "        vertical-align: middle;\n",
       "    }\n",
       "\n",
       "    .dataframe tbody tr th {\n",
       "        vertical-align: top;\n",
       "    }\n",
       "\n",
       "    .dataframe thead th {\n",
       "        text-align: right;\n",
       "    }\n",
       "</style>\n",
       "<table border=\"1\" class=\"dataframe\">\n",
       "  <thead>\n",
       "    <tr style=\"text-align: right;\">\n",
       "      <th></th>\n",
       "      <th>First Name</th>\n",
       "      <th>Last Name</th>\n",
       "      <th>Email</th>\n",
       "      <th>Application Date</th>\n",
       "      <th>Country</th>\n",
       "      <th>YOE</th>\n",
       "      <th>Seniority</th>\n",
       "      <th>Technology</th>\n",
       "      <th>Code Challenge Score</th>\n",
       "      <th>Technical Interview Score</th>\n",
       "      <th>Hired</th>\n",
       "    </tr>\n",
       "  </thead>\n",
       "  <tbody>\n",
       "    <tr>\n",
       "      <th>0</th>\n",
       "      <td>Bernadette</td>\n",
       "      <td>Langworth</td>\n",
       "      <td>leonard91@yahoo.com</td>\n",
       "      <td>2021-02-26</td>\n",
       "      <td>Norway</td>\n",
       "      <td>2</td>\n",
       "      <td>Intern</td>\n",
       "      <td>Data Engineer</td>\n",
       "      <td>3</td>\n",
       "      <td>3</td>\n",
       "      <td>0</td>\n",
       "    </tr>\n",
       "    <tr>\n",
       "      <th>1</th>\n",
       "      <td>Camryn</td>\n",
       "      <td>Reynolds</td>\n",
       "      <td>zelda56@hotmail.com</td>\n",
       "      <td>2021-09-09</td>\n",
       "      <td>Panama</td>\n",
       "      <td>10</td>\n",
       "      <td>Intern</td>\n",
       "      <td>Data Engineer</td>\n",
       "      <td>2</td>\n",
       "      <td>10</td>\n",
       "      <td>0</td>\n",
       "    </tr>\n",
       "    <tr>\n",
       "      <th>2</th>\n",
       "      <td>Larue</td>\n",
       "      <td>Spinka</td>\n",
       "      <td>okey_schultz41@gmail.com</td>\n",
       "      <td>2020-04-14</td>\n",
       "      <td>Belarus</td>\n",
       "      <td>4</td>\n",
       "      <td>Mid-Level</td>\n",
       "      <td>Client Success</td>\n",
       "      <td>10</td>\n",
       "      <td>9</td>\n",
       "      <td>1</td>\n",
       "    </tr>\n",
       "    <tr>\n",
       "      <th>3</th>\n",
       "      <td>Arch</td>\n",
       "      <td>Spinka</td>\n",
       "      <td>elvera_kulas@yahoo.com</td>\n",
       "      <td>2020-10-01</td>\n",
       "      <td>Eritrea</td>\n",
       "      <td>25</td>\n",
       "      <td>Trainee</td>\n",
       "      <td>QA Manual</td>\n",
       "      <td>7</td>\n",
       "      <td>1</td>\n",
       "      <td>0</td>\n",
       "    </tr>\n",
       "    <tr>\n",
       "      <th>4</th>\n",
       "      <td>Larue</td>\n",
       "      <td>Altenwerth</td>\n",
       "      <td>minnie.gislason@gmail.com</td>\n",
       "      <td>2020-05-20</td>\n",
       "      <td>Myanmar</td>\n",
       "      <td>13</td>\n",
       "      <td>Mid-Level</td>\n",
       "      <td>Social Media Community Management</td>\n",
       "      <td>9</td>\n",
       "      <td>7</td>\n",
       "      <td>1</td>\n",
       "    </tr>\n",
       "  </tbody>\n",
       "</table>\n",
       "</div>"
      ],
      "text/plain": [
       "   First Name   Last Name                      Email Application Date  \\\n",
       "0  Bernadette   Langworth        leonard91@yahoo.com       2021-02-26   \n",
       "1      Camryn    Reynolds        zelda56@hotmail.com       2021-09-09   \n",
       "2       Larue      Spinka   okey_schultz41@gmail.com       2020-04-14   \n",
       "3        Arch      Spinka     elvera_kulas@yahoo.com       2020-10-01   \n",
       "4       Larue  Altenwerth  minnie.gislason@gmail.com       2020-05-20   \n",
       "\n",
       "   Country  YOE  Seniority                         Technology  \\\n",
       "0   Norway    2     Intern                      Data Engineer   \n",
       "1   Panama   10     Intern                      Data Engineer   \n",
       "2  Belarus    4  Mid-Level                     Client Success   \n",
       "3  Eritrea   25    Trainee                          QA Manual   \n",
       "4  Myanmar   13  Mid-Level  Social Media Community Management   \n",
       "\n",
       "   Code Challenge Score  Technical Interview Score  Hired  \n",
       "0                     3                          3      0  \n",
       "1                     2                         10      0  \n",
       "2                    10                          9      1  \n",
       "3                     7                          1      0  \n",
       "4                     9                          7      1  "
      ]
     },
     "execution_count": 54,
     "metadata": {},
     "output_type": "execute_result"
    }
   ],
   "source": [
    "#create the atribute hired and use the new dataset with the hired colum \n",
    "hired_table = raw_dataset.copy() #copy the original dataset\n",
    "hired_table[\"Hired\"] = hired_table.apply(determine_hire_state, axis=1).astype(int) #add the colum with the constraint\n",
    "hired_table.head()\n"
   ]
  },
  {
   "cell_type": "markdown",
   "metadata": {},
   "source": [
    "**load the data in postgres and read again**"
   ]
  },
  {
   "cell_type": "code",
   "execution_count": 55,
   "metadata": {},
   "outputs": [
    {
     "data": {
      "text/plain": [
       "1000"
      ]
     },
     "execution_count": 55,
     "metadata": {},
     "output_type": "execute_result"
    }
   ],
   "source": [
    "hired_table.to_sql(f\"{config(\"DB_TABLE2\")}\", con=postgres_connect.connection(), if_exists=\"replace\", index=False) #load into postgres"
   ]
  },
  {
   "cell_type": "code",
   "execution_count": 3,
   "metadata": {},
   "outputs": [],
   "source": [
    "get_all_data_hired = f\"SELECT * FROM {config(\"DB_TABLE2\")}\" #The query to get the data for the pd dataframe\n",
    "hired_dataset = pd.read_sql(get_all_data_hired, con=postgres_connect.connection())"
   ]
  },
  {
   "cell_type": "code",
   "execution_count": 4,
   "metadata": {},
   "outputs": [
    {
     "data": {
      "text/html": [
       "<div>\n",
       "<style scoped>\n",
       "    .dataframe tbody tr th:only-of-type {\n",
       "        vertical-align: middle;\n",
       "    }\n",
       "\n",
       "    .dataframe tbody tr th {\n",
       "        vertical-align: top;\n",
       "    }\n",
       "\n",
       "    .dataframe thead th {\n",
       "        text-align: right;\n",
       "    }\n",
       "</style>\n",
       "<table border=\"1\" class=\"dataframe\">\n",
       "  <thead>\n",
       "    <tr style=\"text-align: right;\">\n",
       "      <th></th>\n",
       "      <th>First Name</th>\n",
       "      <th>Last Name</th>\n",
       "      <th>Email</th>\n",
       "      <th>Application Date</th>\n",
       "      <th>Country</th>\n",
       "      <th>YOE</th>\n",
       "      <th>Seniority</th>\n",
       "      <th>Technology</th>\n",
       "      <th>Code Challenge Score</th>\n",
       "      <th>Technical Interview Score</th>\n",
       "      <th>Hired</th>\n",
       "    </tr>\n",
       "  </thead>\n",
       "  <tbody>\n",
       "    <tr>\n",
       "      <th>0</th>\n",
       "      <td>Bernadette</td>\n",
       "      <td>Langworth</td>\n",
       "      <td>leonard91@yahoo.com</td>\n",
       "      <td>2021-02-26</td>\n",
       "      <td>Norway</td>\n",
       "      <td>2</td>\n",
       "      <td>Intern</td>\n",
       "      <td>Data Engineer</td>\n",
       "      <td>3</td>\n",
       "      <td>3</td>\n",
       "      <td>0</td>\n",
       "    </tr>\n",
       "    <tr>\n",
       "      <th>1</th>\n",
       "      <td>Camryn</td>\n",
       "      <td>Reynolds</td>\n",
       "      <td>zelda56@hotmail.com</td>\n",
       "      <td>2021-09-09</td>\n",
       "      <td>Panama</td>\n",
       "      <td>10</td>\n",
       "      <td>Intern</td>\n",
       "      <td>Data Engineer</td>\n",
       "      <td>2</td>\n",
       "      <td>10</td>\n",
       "      <td>0</td>\n",
       "    </tr>\n",
       "    <tr>\n",
       "      <th>2</th>\n",
       "      <td>Larue</td>\n",
       "      <td>Spinka</td>\n",
       "      <td>okey_schultz41@gmail.com</td>\n",
       "      <td>2020-04-14</td>\n",
       "      <td>Belarus</td>\n",
       "      <td>4</td>\n",
       "      <td>Mid-Level</td>\n",
       "      <td>Client Success</td>\n",
       "      <td>10</td>\n",
       "      <td>9</td>\n",
       "      <td>1</td>\n",
       "    </tr>\n",
       "    <tr>\n",
       "      <th>3</th>\n",
       "      <td>Arch</td>\n",
       "      <td>Spinka</td>\n",
       "      <td>elvera_kulas@yahoo.com</td>\n",
       "      <td>2020-10-01</td>\n",
       "      <td>Eritrea</td>\n",
       "      <td>25</td>\n",
       "      <td>Trainee</td>\n",
       "      <td>QA Manual</td>\n",
       "      <td>7</td>\n",
       "      <td>1</td>\n",
       "      <td>0</td>\n",
       "    </tr>\n",
       "    <tr>\n",
       "      <th>4</th>\n",
       "      <td>Larue</td>\n",
       "      <td>Altenwerth</td>\n",
       "      <td>minnie.gislason@gmail.com</td>\n",
       "      <td>2020-05-20</td>\n",
       "      <td>Myanmar</td>\n",
       "      <td>13</td>\n",
       "      <td>Mid-Level</td>\n",
       "      <td>Social Media Community Management</td>\n",
       "      <td>9</td>\n",
       "      <td>7</td>\n",
       "      <td>1</td>\n",
       "    </tr>\n",
       "    <tr>\n",
       "      <th>...</th>\n",
       "      <td>...</td>\n",
       "      <td>...</td>\n",
       "      <td>...</td>\n",
       "      <td>...</td>\n",
       "      <td>...</td>\n",
       "      <td>...</td>\n",
       "      <td>...</td>\n",
       "      <td>...</td>\n",
       "      <td>...</td>\n",
       "      <td>...</td>\n",
       "      <td>...</td>\n",
       "    </tr>\n",
       "    <tr>\n",
       "      <th>49995</th>\n",
       "      <td>Bethany</td>\n",
       "      <td>Shields</td>\n",
       "      <td>rocky_mitchell@hotmail.com</td>\n",
       "      <td>2022-01-09</td>\n",
       "      <td>Dominican Republic</td>\n",
       "      <td>27</td>\n",
       "      <td>Trainee</td>\n",
       "      <td>Security</td>\n",
       "      <td>2</td>\n",
       "      <td>1</td>\n",
       "      <td>0</td>\n",
       "    </tr>\n",
       "    <tr>\n",
       "      <th>49996</th>\n",
       "      <td>Era</td>\n",
       "      <td>Swaniawski</td>\n",
       "      <td>dolores.roob@hotmail.com</td>\n",
       "      <td>2020-06-02</td>\n",
       "      <td>Morocco</td>\n",
       "      <td>21</td>\n",
       "      <td>Lead</td>\n",
       "      <td>Game Development</td>\n",
       "      <td>1</td>\n",
       "      <td>2</td>\n",
       "      <td>0</td>\n",
       "    </tr>\n",
       "    <tr>\n",
       "      <th>49997</th>\n",
       "      <td>Martin</td>\n",
       "      <td>Lakin</td>\n",
       "      <td>savanah.stracke@gmail.com</td>\n",
       "      <td>2018-12-15</td>\n",
       "      <td>Uganda</td>\n",
       "      <td>20</td>\n",
       "      <td>Trainee</td>\n",
       "      <td>System Administration</td>\n",
       "      <td>6</td>\n",
       "      <td>1</td>\n",
       "      <td>0</td>\n",
       "    </tr>\n",
       "    <tr>\n",
       "      <th>49998</th>\n",
       "      <td>Aliya</td>\n",
       "      <td>Abernathy</td>\n",
       "      <td>vivienne.fritsch@yahoo.com</td>\n",
       "      <td>2020-05-30</td>\n",
       "      <td>Czech Republic</td>\n",
       "      <td>20</td>\n",
       "      <td>Senior</td>\n",
       "      <td>Database Administration</td>\n",
       "      <td>0</td>\n",
       "      <td>0</td>\n",
       "      <td>0</td>\n",
       "    </tr>\n",
       "    <tr>\n",
       "      <th>49999</th>\n",
       "      <td>Coleman</td>\n",
       "      <td>Wisozk</td>\n",
       "      <td>abigayle.crooks@yahoo.com</td>\n",
       "      <td>2022-06-13</td>\n",
       "      <td>Palau</td>\n",
       "      <td>15</td>\n",
       "      <td>Intern</td>\n",
       "      <td>Mulesoft</td>\n",
       "      <td>3</td>\n",
       "      <td>1</td>\n",
       "      <td>0</td>\n",
       "    </tr>\n",
       "  </tbody>\n",
       "</table>\n",
       "<p>50000 rows × 11 columns</p>\n",
       "</div>"
      ],
      "text/plain": [
       "       First Name   Last Name                       Email Application Date  \\\n",
       "0      Bernadette   Langworth         leonard91@yahoo.com       2021-02-26   \n",
       "1          Camryn    Reynolds         zelda56@hotmail.com       2021-09-09   \n",
       "2           Larue      Spinka    okey_schultz41@gmail.com       2020-04-14   \n",
       "3            Arch      Spinka      elvera_kulas@yahoo.com       2020-10-01   \n",
       "4           Larue  Altenwerth   minnie.gislason@gmail.com       2020-05-20   \n",
       "...           ...         ...                         ...              ...   \n",
       "49995     Bethany     Shields  rocky_mitchell@hotmail.com       2022-01-09   \n",
       "49996         Era  Swaniawski    dolores.roob@hotmail.com       2020-06-02   \n",
       "49997      Martin       Lakin   savanah.stracke@gmail.com       2018-12-15   \n",
       "49998       Aliya   Abernathy  vivienne.fritsch@yahoo.com       2020-05-30   \n",
       "49999     Coleman      Wisozk   abigayle.crooks@yahoo.com       2022-06-13   \n",
       "\n",
       "                  Country  YOE  Seniority                         Technology  \\\n",
       "0                  Norway    2     Intern                      Data Engineer   \n",
       "1                  Panama   10     Intern                      Data Engineer   \n",
       "2                 Belarus    4  Mid-Level                     Client Success   \n",
       "3                 Eritrea   25    Trainee                          QA Manual   \n",
       "4                 Myanmar   13  Mid-Level  Social Media Community Management   \n",
       "...                   ...  ...        ...                                ...   \n",
       "49995  Dominican Republic   27    Trainee                           Security   \n",
       "49996             Morocco   21       Lead                   Game Development   \n",
       "49997              Uganda   20    Trainee              System Administration   \n",
       "49998      Czech Republic   20     Senior            Database Administration   \n",
       "49999               Palau   15     Intern                           Mulesoft   \n",
       "\n",
       "       Code Challenge Score  Technical Interview Score  Hired  \n",
       "0                         3                          3      0  \n",
       "1                         2                         10      0  \n",
       "2                        10                          9      1  \n",
       "3                         7                          1      0  \n",
       "4                         9                          7      1  \n",
       "...                     ...                        ...    ...  \n",
       "49995                     2                          1      0  \n",
       "49996                     1                          2      0  \n",
       "49997                     6                          1      0  \n",
       "49998                     0                          0      0  \n",
       "49999                     3                          1      0  \n",
       "\n",
       "[50000 rows x 11 columns]"
      ]
     },
     "execution_count": 4,
     "metadata": {},
     "output_type": "execute_result"
    }
   ],
   "source": [
    "hired_dataset"
   ]
  },
  {
   "cell_type": "code",
   "execution_count": 32,
   "metadata": {},
   "outputs": [
    {
     "data": {
      "text/plain": [
       "Hired\n",
       "0    43302\n",
       "1     6698\n",
       "Name: count, dtype: int64"
      ]
     },
     "execution_count": 32,
     "metadata": {},
     "output_type": "execute_result"
    }
   ],
   "source": [
    "hired_dataset.Hired.value_counts()"
   ]
  },
  {
   "cell_type": "markdown",
   "metadata": {},
   "source": [
    "---"
   ]
  },
  {
   "cell_type": "markdown",
   "metadata": {},
   "source": [
    "**Well all dataset looks clean we can do the visualizations now**\n",
    "<p>first the requirements</p>\n",
    "\n",
    "- Hires by technology (pie chart)\n",
    "- Hires by year (horizontal bar chart)\n",
    "- Hires by seniority (bar chart)\n",
    "- Hires by country over years (USA, Brazil, Colombia and Ecuador only) (multiline chart)\n",
    "\n"
   ]
  },
  {
   "cell_type": "markdown",
   "metadata": {},
   "source": [
    "<center> <font color=#3498DB><h2>Visualizations</h2></font>  <h2>📊</h2> </center>"
   ]
  },
  {
   "cell_type": "code",
   "execution_count": 31,
   "metadata": {},
   "outputs": [
    {
     "data": {
      "image/png": "[encoded data removed]",
      "text/plain": [
       "<Figure size 640x480 with 1 Axes>"
      ]
     },
     "metadata": {},
     "output_type": "display_data"
    }
   ],
   "source": [
    "fig, ax = plt.subplots()\n",
    "colors=[\"#2069E8\",\"#18E546\"] #set the colors for the pie\n",
    "explode = (0.1,0) #move the slide \n",
    "ax.pie(hired_dataset.Hired.value_counts(), labels=[\"no hired\", \"hired\"], colors=colors, autopct=lambda p: '{:.0f}%'.format(p), startangle=140, explode=explode, shadow=True)\n",
    "ax.axis(\"equal\") # secure the graph to be circular\n",
    "ax.set_title(\"hiring\") \n",
    "ax.legend(loc=\"best\")\n",
    "plt.show()"
   ]
  },
  {
   "cell_type": "markdown",
   "metadata": {},
   "source": [
    "**Pie chart**  <font color=red>hired vs no hired</font>"
   ]
  },
  {
   "cell_type": "markdown",
   "metadata": {},
   "source": [
    "---"
   ]
  },
  {
   "cell_type": "code",
   "execution_count": 5,
   "metadata": {},
   "outputs": [],
   "source": [
    "hby = pd.to_datetime(hired_dataset[\"Application Date\"],format=\"%Y-%m-%d\")\n",
    "hired_dataset[\"Year\"] = hby.dt.year\n",
    "hires_by_year = hired_dataset.groupby(\"Year\").size()\n",
    "is_hire = hired_dataset[hired_dataset[\"Hired\"]==1]\n",
    "hires_by_year_hired = is_hire.groupby(\"Year\").size()"
   ]
  },
  {
   "cell_type": "code",
   "execution_count": 6,
   "metadata": {},
   "outputs": [
    {
     "data": {
      "image/png": "[encoded data removed]",
      "text/plain": [
       "<Figure size 640x480 with 1 Axes>"
      ]
     },
     "metadata": {},
     "output_type": "display_data"
    }
   ],
   "source": [
    "fig, ax = plt.subplots()\n",
    "max_year = hires_by_year.idxmax()\n",
    "max_hires = hires_by_year.max()\n",
    "ax.barh(hires_by_year.index, hires_by_year.values, color=\"orange\", edgecolor=\"#148B41\")\n",
    "ax.set_ylabel(\"year\")\n",
    "ax.set_xlabel(\"Hires\")\n",
    "ax.set_title(\"Hires By Year\")\n",
    "ax.autoscale()\n",
    "ax.axvline(max_hires, color='red', linestyle='--')\n",
    "ax.text(max_hires, max_year, f'{max_hires}', va='center', ha='right', color='blue')\n",
    "plt.show()"
   ]
  },
  {
   "cell_type": "code",
   "execution_count": 7,
   "metadata": {},
   "outputs": [],
   "source": [
    "is_hire = hired_dataset[hired_dataset[\"Hired\"]==1]\n",
    "hires_by_year_hired = is_hire.groupby(\"Year\").size()"
   ]
  },
  {
   "cell_type": "code",
   "execution_count": 8,
   "metadata": {},
   "outputs": [
    {
     "data": {
      "image/png": "[encoded data removed]",
      "text/plain": [
       "<Figure size 640x480 with 1 Axes>"
      ]
     },
     "metadata": {},
     "output_type": "display_data"
    }
   ],
   "source": [
    "fig, ax = plt.subplots()\n",
    "max_year_hired = hires_by_year_hired.idxmax()\n",
    "max_hires_hired = hires_by_year_hired.max()\n",
    "ax.barh(hires_by_year_hired.index, hires_by_year_hired.values, color=\"#20E86C\", edgecolor=\"#148B41\")\n",
    "ax.set_ylabel(\"year\")\n",
    "ax.set_xlabel(\"Hired\")\n",
    "ax.set_title(\"Hires By Year hired\")\n",
    "ax.autoscale()\n",
    "ax.axvline(max_hires_hired, color='red', linestyle='--')\n",
    "ax.text(max_hires_hired, max_year_hired, f'{max_hires_hired}', va='center', ha='right', color='blue')\n",
    "plt.show()"
   ]
  },
  {
   "cell_type": "code",
   "execution_count": 10,
   "metadata": {},
   "outputs": [],
   "source": [
    "no_hire = hired_dataset[hired_dataset[\"Hired\"]==0]\n",
    "no_hires_by_year_hired = no_hire.groupby(\"Year\").size()"
   ]
  },
  {
   "cell_type": "code",
   "execution_count": 14,
   "metadata": {},
   "outputs": [
    {
     "data": {
      "image/png": "[encoded data removed]",
      "text/plain": [
       "<Figure size 640x480 with 3 Axes>"
      ]
     },
     "metadata": {},
     "output_type": "display_data"
    }
   ],
   "source": [
    "fig, ax = plt.subplots(3, layout='constrained')\n",
    "\n",
    "max_year = hires_by_year.idxmax()\n",
    "max_hires = hires_by_year.max()\n",
    "ax[0].barh(hires_by_year.index, hires_by_year.values, color=\"orange\", edgecolor=\"#148B41\")\n",
    "ax[0].set_ylabel(\"year\")\n",
    "ax[0].set_xlabel(\"Hires\")\n",
    "ax[0].set_title(\"Hires By Year\")\n",
    "ax[0].autoscale()\n",
    "ax[0].axvline(max_hires, color='red', linestyle='--')\n",
    "ax[0].text(max_hires, max_year, f'{max_hires}', va='center', ha='right', color='blue')\n",
    "\n",
    "max_year_hired = hires_by_year_hired.idxmax()\n",
    "max_hires_hired = hires_by_year_hired.max()\n",
    "ax[1].barh(hires_by_year_hired.index, hires_by_year_hired.values, color=\"#20E86C\", edgecolor=\"#148B41\")\n",
    "ax[1].set_ylabel(\"year\")\n",
    "ax[1].set_xlabel(\"Hired\")\n",
    "ax[1].set_title(\"Hires By Year hired\")\n",
    "ax[1].autoscale()\n",
    "ax[1].axvline(max_hires_hired, color='red', linestyle='--')\n",
    "ax[1].text(max_hires_hired, max_year_hired, f'{max_hires_hired}', va='center', ha='right', color='blue')\n",
    "\n",
    "no_max_year_hired = no_hires_by_year_hired.idxmax()\n",
    "no_max_hires_hired = no_hires_by_year_hired.max()\n",
    "ax[2].barh(no_hires_by_year_hired.index, no_hires_by_year_hired.values, color=\"red\", edgecolor=\"#148B41\")\n",
    "ax[2].set_ylabel(\"year\")\n",
    "ax[2].set_xlabel(\"No Hired\")\n",
    "ax[2].set_title(\"Hires By Year no hired\")\n",
    "ax[2].autoscale()\n",
    "ax[2].axvline(no_max_hires_hired, color='red', linestyle='--')\n",
    "ax[2].text(no_max_hires_hired, no_max_year_hired, f'{no_max_hires_hired}', va='center', ha='right', color='blue')\n",
    "\n",
    "\n",
    "plt.show()"
   ]
  },
  {
   "cell_type": "markdown",
   "metadata": {},
   "source": [
    "**Horizontal_Bars** <font color=red><p>hires - hires_hired - hires_no_hired</p></font>"
   ]
  },
  {
   "cell_type": "markdown",
   "metadata": {},
   "source": [
    "---"
   ]
  },
  {
   "cell_type": "code",
   "execution_count": 43,
   "metadata": {},
   "outputs": [
    {
     "data": {
      "text/plain": [
       "Seniority\n",
       "Architect    7079\n",
       "Intern       7255\n",
       "Junior       7100\n",
       "Lead         7071\n",
       "Mid-Level    7253\n",
       "Senior       7059\n",
       "Trainee      7183\n",
       "dtype: int64"
      ]
     },
     "execution_count": 43,
     "metadata": {},
     "output_type": "execute_result"
    }
   ],
   "source": [
    "hired_by_seniority = hired_dataset.groupby(\"Seniority\").size()\n",
    "hired_by_seniority_h = is_hire.groupby(\"Seniority\").size()\n",
    "#hired_dataset[hired_dataset.Hired == 1]\n",
    "hired_by_seniority"
   ]
  },
  {
   "cell_type": "code",
   "execution_count": 42,
   "metadata": {},
   "outputs": [
    {
     "data": {
      "image/png": "[encoded data removed]",
      "text/plain": [
       "<Figure size 640x480 with 1 Axes>"
      ]
     },
     "metadata": {},
     "output_type": "display_data"
    }
   ],
   "source": [
    "fig, ax = plt.subplots()\n",
    "\n",
    "ax.bar(hired_by_seniority.index, hired_by_seniority.values)\n",
    "ax.set_title(\"hires by seniority\")\n",
    "ax.set(xlabel=\"Seniority category\", ylabel=\"Amount\")\n",
    "ax.grid(True, axis=\"y\", linestyle=\"--\", color=\"skyblue\")\n",
    "plt.show()"
   ]
  },
  {
   "cell_type": "code",
   "execution_count": 80,
   "metadata": {},
   "outputs": [
    {
     "data": {
      "image/png": "[encoded data removed]",
      "text/plain": [
       "<Figure size 640x480 with 1 Axes>"
      ]
     },
     "metadata": {},
     "output_type": "display_data"
    }
   ],
   "source": [
    "fig, ax = plt.subplots()\n",
    "ax.bar(hired_by_seniority_h.index, hired_by_seniority_h.values, color=\"#0ED507\")\n",
    "ax.set(xlabel=\"Seniority\", ylabel=\"Hired amount\")\n",
    "ax.set_title(\"Hired\")\n",
    "ax.grid(True, axis=\"y\", color=\"skyblue\", linestyle=\"--\")\n",
    "ax.text(hired_by_seniority_h.idxmax(),hired_by_seniority_h.max()-50,f\"{hired_by_seniority_h.max()}\", va=\"center\", ha=\"center\")\n",
    "ax.scatter(x=hired_by_seniority_h.idxmax(), y=hired_by_seniority_h.max()+30, marker=\"v\", color=\"black\", label=\"Max_hires_Seniority\")\n",
    "ax.legend(loc=\"lower center\")\n",
    "plt.show()\n"
   ]
  },
  {
   "cell_type": "code",
   "execution_count": 48,
   "metadata": {},
   "outputs": [
    {
     "data": {
      "image/png": "[encoded data removed]",
      "text/plain": [
       "<Figure size 640x480 with 2 Axes>"
      ]
     },
     "metadata": {},
     "output_type": "display_data"
    }
   ],
   "source": [
    "fig, ax = plt.subplots(2, layout=\"constrained\")\n",
    "\n",
    "\n",
    "\n",
    "\n",
    "\n",
    "\n"
   ]
  },
  {
   "cell_type": "code",
   "execution_count": null,
   "metadata": {},
   "outputs": [],
   "source": []
  }
 ],
 "metadata": {
  "kernelspec": {
   "display_name": "venv",
   "language": "python",
   "name": "python3"
  },
  "language_info": {
   "codemirror_mode": {
    "name": "ipython",
    "version": 3
   },
   "file_extension": ".py",
   "mimetype": "text/x-python",
   "name": "python",
   "nbconvert_exporter": "python",
   "pygments_lexer": "ipython3",
   "version": "3.12.0"
  }
 },
 "nbformat": 4,
 "nbformat_minor": 2
}
